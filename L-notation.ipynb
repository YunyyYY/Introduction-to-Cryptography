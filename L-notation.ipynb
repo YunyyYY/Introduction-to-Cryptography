{
 "cells": [
  {
   "cell_type": "code",
   "execution_count": 40,
   "metadata": {},
   "outputs": [],
   "source": [
    "import numpy as np\n",
    "import matplotlib.pyplot as plt"
   ]
  },
  {
   "cell_type": "markdown",
   "metadata": {},
   "source": [
    "### [L-notation](https://en.wikipedia.org/wiki/L-notation)\n",
    "L-notation is an asymptotic notation analogous to big-O notation, denoted as $L_{n}[\\alpha ,c]$ for a bound variable $n$ tending to infinity. Like big-O notation, it is usually used to roughly convey the computational complexity of a particular algorithm. It is defined as\n",
    "$$\n",
    "L_{n}(\\alpha, c)=e^{(c+o(1))\\left((\\ln n)^{\\alpha}(\\ln \\ln n)^{1-\\alpha}\\right) )}\n",
    "$$\n",
    "where c is a positive constant, and $\\alpha$ is a constant $0 \\leq \\alpha \\leq 1$.\n",
    "\n",
    "The $e^{{c(\\ln n)^{\\alpha }(\\ln \\ln n)^{{1-\\alpha }}}}$ expresses the dominant term, and the $e^{{o(1)(\\ln n)^{\\alpha }(\\ln \\ln n)^{{1-\\alpha }}}}$ takes care of everything smaller."
   ]
  },
  {
   "cell_type": "code",
   "execution_count": 35,
   "metadata": {},
   "outputs": [],
   "source": [
    "def ln(a, c):\n",
    "    def f(x):\n",
    "        if x==0:\n",
    "            return 0\n",
    "        tmp = np.power(np.log(x), a)*np.power(np.log(np.log(x)),(1-a))\n",
    "        return np.exp(c*tmp)\n",
    "    return f"
   ]
  },
  {
   "cell_type": "code",
   "execution_count": 36,
   "metadata": {},
   "outputs": [],
   "source": [
    "f1 = ln(0.5, np.sqrt(2))"
   ]
  },
  {
   "cell_type": "code",
   "execution_count": 49,
   "metadata": {},
   "outputs": [],
   "source": [
    "k = np.linspace(1000, 100000, 100)[1:]\n",
    "a = [f1(i) for i in k]\n"
   ]
  },
  {
   "cell_type": "code",
   "execution_count": 50,
   "metadata": {},
   "outputs": [
    {
     "data": {
      "text/plain": [
       "[<matplotlib.lines.Line2D at 0x10d3a6e48>]"
      ]
     },
     "execution_count": 50,
     "metadata": {},
     "output_type": "execute_result"
    },
    {
     "data": {
      "image/png": "[encoded data removed]",
      "text/plain": [
       "<Figure size 432x288 with 1 Axes>"
      ]
     },
     "metadata": {},
     "output_type": "display_data"
    }
   ],
   "source": [
    "plt.plot(k, a)\n",
    "plt.plot(k, k*k)\n",
    "plt.plot(k, k)"
   ]
  },
  {
   "cell_type": "code",
   "execution_count": null,
   "metadata": {},
   "outputs": [],
   "source": []
  }
 ],
 "metadata": {
  "kernelspec": {
   "display_name": "Python [conda root]",
   "language": "python",
   "name": "conda-root-py"
  },
  "language_info": {
   "codemirror_mode": {
    "name": "ipython",
    "version": 3
   },
   "file_extension": ".py",
   "mimetype": "text/x-python",
   "name": "python",
   "nbconvert_exporter": "python",
   "pygments_lexer": "ipython3",
   "version": "3.6.5"
  }
 },
 "nbformat": 4,
 "nbformat_minor": 2
}
