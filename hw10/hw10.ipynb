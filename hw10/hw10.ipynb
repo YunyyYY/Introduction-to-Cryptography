{
 "cells": [
  {
   "cell_type": "code",
   "execution_count": 1,
   "metadata": {},
   "outputs": [],
   "source": [
    "import numpy as np"
   ]
  },
  {
   "cell_type": "code",
   "execution_count": 2,
   "metadata": {},
   "outputs": [],
   "source": [
    "class Point:    \n",
    "    def __init__(self, x, y):\n",
    "        self.x = x\n",
    "        self.y = y\n",
    "        \n",
    "    def __str__(self):\n",
    "        print(\"({},{})\".format(self.x, self.y))"
   ]
  },
  {
   "cell_type": "code",
   "execution_count": 11,
   "metadata": {},
   "outputs": [],
   "source": [
    "p = Point(8, 9)"
   ]
  },
  {
   "cell_type": "code",
   "execution_count": 4,
   "metadata": {},
   "outputs": [],
   "source": [
    "inv = np.array([0, 1, 6, 4, 3, 9, 2, 8, 7, 5, 10])"
   ]
  },
  {
   "cell_type": "code",
   "execution_count": 8,
   "metadata": {},
   "outputs": [],
   "source": [
    "def get_m(p1, p2, b):\n",
    "    if p1.x==p2.x:\n",
    "        if p1.y==0:\n",
    "            return -1\n",
    "        else:\n",
    "            den = (3*p1.x**2+b)%11\n",
    "            nom = (2*p1.y)%11\n",
    "    else:\n",
    "        den = (p2.y-p1.y)%11\n",
    "        nom = (p2.x-p1.x)%11\n",
    "    return (den*inv[nom])%11"
   ]
  },
  {
   "cell_type": "code",
   "execution_count": 18,
   "metadata": {},
   "outputs": [],
   "source": [
    "def add_point(p1, p2, b):\n",
    "    m = get_m(p1, p2, b)\n",
    "    if m == -1: # define for unity\n",
    "        x3 = y3 = 0 \n",
    "    else:\n",
    "        x3 = (m**2 - p1.x-p2.x)%11\n",
    "        y3 = (m*(p1.x - x3)-p1.y)%11\n",
    "    return Point(x3, y3)"
   ]
  },
  {
   "cell_type": "code",
   "execution_count": 19,
   "metadata": {},
   "outputs": [
    {
     "name": "stdout",
     "output_type": "stream",
     "text": [
      "(10,6)\n"
     ]
    }
   ],
   "source": [
    "p2 = add_point(p, p, 3)\n",
    "p2.__str__()"
   ]
  },
  {
   "cell_type": "code",
   "execution_count": 20,
   "metadata": {},
   "outputs": [
    {
     "name": "stdout",
     "output_type": "stream",
     "text": [
      "(9,9)\n"
     ]
    }
   ],
   "source": [
    "p3 = add_point(p, p2, 3)\n",
    "p3.__str__()"
   ]
  },
  {
   "cell_type": "code",
   "execution_count": 21,
   "metadata": {},
   "outputs": [
    {
     "name": "stdout",
     "output_type": "stream",
     "text": [
      "(5,2)\n"
     ]
    }
   ],
   "source": [
    "p4 = add_point(p3, p, 3)\n",
    "p4.__str__()"
   ]
  },
  {
   "cell_type": "code",
   "execution_count": 22,
   "metadata": {},
   "outputs": [
    {
     "name": "stdout",
     "output_type": "stream",
     "text": [
      "(1,0)\n"
     ]
    }
   ],
   "source": [
    "p5 = add_point(p2, p3, 3)\n",
    "p5.__str__()"
   ]
  },
  {
   "cell_type": "code",
   "execution_count": 23,
   "metadata": {},
   "outputs": [
    {
     "name": "stdout",
     "output_type": "stream",
     "text": [
      "(5,9)\n"
     ]
    }
   ],
   "source": [
    "p6 = add_point(p3, p3, 3)\n",
    "p6.__str__()"
   ]
  },
  {
   "cell_type": "code",
   "execution_count": 26,
   "metadata": {},
   "outputs": [
    {
     "name": "stdout",
     "output_type": "stream",
     "text": [
      "(9,2)\n"
     ]
    }
   ],
   "source": [
    "p7 = add_point(p2, p5, 3)\n",
    "p7.__str__()"
   ]
  },
  {
   "cell_type": "code",
   "execution_count": 27,
   "metadata": {},
   "outputs": [
    {
     "name": "stdout",
     "output_type": "stream",
     "text": [
      "(10,5)\n"
     ]
    }
   ],
   "source": [
    "p8 = add_point(p, p7, 3)\n",
    "p8.__str__()"
   ]
  },
  {
   "cell_type": "code",
   "execution_count": 28,
   "metadata": {},
   "outputs": [
    {
     "name": "stdout",
     "output_type": "stream",
     "text": [
      "(8,2)\n"
     ]
    }
   ],
   "source": [
    "p9 = add_point(p2, p7, 3)\n",
    "p9.__str__()"
   ]
  },
  {
   "cell_type": "code",
   "execution_count": 10,
   "metadata": {},
   "outputs": [
    {
     "name": "stdout",
     "output_type": "stream",
     "text": [
      "(0,0)\n"
     ]
    }
   ],
   "source": [
    "p10 = add_point(p5, p5, 3)\n",
    "p10.__str__()"
   ]
  },
  {
   "cell_type": "code",
   "execution_count": 13,
   "metadata": {},
   "outputs": [
    {
     "name": "stdout",
     "output_type": "stream",
     "text": [
      "(10,5)\n"
     ]
    }
   ],
   "source": [
    "p8 = add_point(p4, p4, 3)\n",
    "p8.__str__()"
   ]
  },
  {
   "cell_type": "code",
   "execution_count": 15,
   "metadata": {},
   "outputs": [
    {
     "name": "stdout",
     "output_type": "stream",
     "text": [
      "(8,2)\n"
     ]
    }
   ],
   "source": [
    "p9 = add_point(p8, p, 3)\n",
    "p9.__str__()"
   ]
  },
  {
   "cell_type": "code",
   "execution_count": null,
   "metadata": {},
   "outputs": [],
   "source": []
  }
 ],
 "metadata": {
  "kernelspec": {
   "display_name": "Python [conda root]",
   "language": "python",
   "name": "conda-root-py"
  },
  "language_info": {
   "codemirror_mode": {
    "name": "ipython",
    "version": 3
   },
   "file_extension": ".py",
   "mimetype": "text/x-python",
   "name": "python",
   "nbconvert_exporter": "python",
   "pygments_lexer": "ipython3",
   "version": "3.6.5"
  }
 },
 "nbformat": 4,
 "nbformat_minor": 2
}
