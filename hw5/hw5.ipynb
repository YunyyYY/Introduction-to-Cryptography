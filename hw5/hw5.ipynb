{
 "cells": [
  {
   "cell_type": "code",
   "execution_count": 12,
   "metadata": {},
   "outputs": [],
   "source": [
    "import numpy as np\n",
    "import gmpy2\n",
    "from numpy.random import randint"
   ]
  },
  {
   "cell_type": "markdown",
   "metadata": {},
   "source": [
    "### Ex. 3.4 Wiener’s attack\n",
    "Given n = 317940011 and e = 77537081, apply Wiener’s attack in order to factor n. "
   ]
  },
  {
   "cell_type": "code",
   "execution_count": 2,
   "metadata": {},
   "outputs": [],
   "source": [
    "# calculating continued fraction expansion for nu/de\n",
    "def cfe(nu, de):\n",
    "    c = [int(nu/de)]\n",
    "    while nu != 1:\n",
    "        nu, de = de, nu\n",
    "        ci = int(nu/de)\n",
    "        c.append(ci)\n",
    "        nu = nu%de\n",
    "        # print(c)\n",
    "    c.append(de)\n",
    "    return c"
   ]
  },
  {
   "cell_type": "code",
   "execution_count": 3,
   "metadata": {},
   "outputs": [],
   "source": [
    "# recover nu/de\n",
    "def get_frac(c):\n",
    "    c.reverse()\n",
    "    # clist = []\n",
    "    _nu, _de = 0, 1\n",
    "    for i in c:\n",
    "        nu, de = _nu, _de\n",
    "        # clist.append([nu, de])\n",
    "        # print(nu, de)\n",
    "        _nu, _de = de, i * de + nu\n",
    "    return (nu, de)"
   ]
  },
  {
   "cell_type": "code",
   "execution_count": 4,
   "metadata": {},
   "outputs": [],
   "source": [
    "e = 77537081\n",
    "n = 317940011\n",
    "x = cfe(e, n)\n",
    "c_lst = []\n",
    "\n",
    "for i in range(len(x)):\n",
    "    tmp = get_frac(x[0:i+1])\n",
    "    c_lst.append(tmp)"
   ]
  },
  {
   "cell_type": "markdown",
   "metadata": {},
   "source": [
    "Since $ed-t \\varphi(n)=1$, first find all possible $\\varphi(n) = (ed-1)/t$, and check if the equation $ x^{2}-(n-\\varphi(n)+1) x+n=0 $ has integer solution.\n",
    "\n",
    "$pq = n$ and $p+q = n-\\varphi(n)+1$."
   ]
  },
  {
   "cell_type": "code",
   "execution_count": 5,
   "metadata": {},
   "outputs": [
    {
     "name": "stdout",
     "output_type": "stream",
     "text": [
      "---------------\n",
      "1 4 p+q= 7791689 varphi= 310148323\n",
      "60709145712677\n",
      "7791607.389536321\n",
      "---------------\n",
      "10 41 p+q= 37980 varphi= 317902032\n",
      "170720356\n",
      "13066.0\n",
      "---------------\n",
      "33252285 136350656 p+q= 1 varphi= 317940011\n",
      "-1271760043\n"
     ]
    }
   ],
   "source": [
    "for i in c_lst:\n",
    "    t, d = i\n",
    "    if t:\n",
    "        if (e*d - 1)%t == 0:\n",
    "            varphi = int((e*d - 1)/t)\n",
    "            p_q = n +1 - varphi\n",
    "            delta = p_q*p_q - 4*n\n",
    "            print('---------------')\n",
    "            print(t, d, \"p+q=\", p_q, \"varphi=\", varphi)\n",
    "            print(delta)\n",
    "            if delta>=0:\n",
    "                print(np.sqrt(delta))\n",
    "            # print(np.sqrt(delta))"
   ]
  },
  {
   "cell_type": "markdown",
   "metadata": {},
   "source": [
    "Therefore, $\\Delta = 13066$ and $b = -(p+q) = -37980$.\n",
    "\n",
    "We could find $p, q = \\frac{-b \\pm \\Delta}{2}$"
   ]
  },
  {
   "cell_type": "markdown",
   "metadata": {},
   "source": [
    "### Ex. 4 RSA"
   ]
  },
  {
   "cell_type": "code",
   "execution_count": 2,
   "metadata": {},
   "outputs": [],
   "source": [
    "# Modular Exponentiation\n",
    "# m is base, d is power, n is module\n",
    "def mod_exp(m, d, n):\n",
    "    x = 1\n",
    "    while d:\n",
    "        if d&1:\n",
    "            x = x*m % n\n",
    "        m = m * m % n\n",
    "        d = d >> 1\n",
    "    return x\n",
    "\n",
    "# generate random number until a prime\n",
    "def gen_rand(bit):\n",
    "    while 1:\n",
    "        num = gmpy2.mpz(1)\n",
    "        a = randint(0, 2, bit)\n",
    "        for i in a:\n",
    "            num = num * 2 + i\n",
    "        if gmpy2.is_prime(num):\n",
    "            break\n",
    "    return num\n",
    "\n",
    "# set up security level\n",
    "level = {80:1024, 112:2048, 128:3072, 192:7680, 256:15360}"
   ]
  },
  {
   "cell_type": "code",
   "execution_count": 7,
   "metadata": {},
   "outputs": [],
   "source": [
    "# sel -- security level\n",
    "# p, q -- gmpy objects\n",
    "def generate(sel):\n",
    "    if sel not in level:\n",
    "        print(\"wrong security level\")\n",
    "        return\n",
    "    p = gen_rand(level[sel])\n",
    "    q = gen_rand(level[sel])\n",
    "    return p, q"
   ]
  },
  {
   "cell_type": "code",
   "execution_count": 8,
   "metadata": {},
   "outputs": [],
   "source": [
    "# p -- plaintext\n",
    "# n -- generated large number\n",
    "# e -- encryption key\n",
    "def encrypt(p, n, e):\n",
    "    c = mod_exp(p, e, n)\n",
    "    return c"
   ]
  },
  {
   "cell_type": "code",
   "execution_count": 9,
   "metadata": {},
   "outputs": [],
   "source": [
    "# c -- ciphertext\n",
    "# n -- generated large number\n",
    "# e -- decryption key\n",
    "def decrypt(c, n, d):\n",
    "    p = mod_exp(c, d, n)\n",
    "    return p"
   ]
  },
  {
   "cell_type": "code",
   "execution_count": 20,
   "metadata": {},
   "outputs": [],
   "source": [
    "p, q = generate(80)"
   ]
  },
  {
   "cell_type": "code",
   "execution_count": 22,
   "metadata": {},
   "outputs": [
    {
     "name": "stdout",
     "output_type": "stream",
     "text": [
      "85251399824791625698367629049474620170498107429524969218263938529493969798084686229841677931184875261597898291409781527861054043998720967923487311723402629643151975676750596142935807384707225555880988617145476320769211145562713694456853347011642904524859843300279823453241124944547447866194570575089878546086094317193373462821276260012830824469420982084514841870188828598731620834073285594022208586078274805690331699591386287989128408736364169810602532793643209027815650503845372197796129728708223119465098966342155276977076870703574598539813061382744242834279509163112934436184488393968798018262070259293518100572363\n"
     ]
    }
   ],
   "source": [
    "n = p * q\n",
    "print(n)"
   ]
  },
  {
   "cell_type": "markdown",
   "metadata": {},
   "source": [
    "### Ex. 5.5 smallest generator of $\\varphi(97)$\n",
    "$\\varphi(97) = 96 = \\times 6\\times 16 = 3\\cdot 2^5$, thus need to consider 32 and 48."
   ]
  },
  {
   "cell_type": "code",
   "execution_count": 25,
   "metadata": {},
   "outputs": [
    {
     "name": "stdout",
     "output_type": "stream",
     "text": [
      "---2---\n",
      "35\n",
      "1\n",
      "---3---\n",
      "35\n",
      "1\n",
      "---5---\n",
      "35\n",
      "96\n",
      "---7---\n",
      "35\n",
      "96\n",
      "---11---\n",
      "61\n",
      "1\n"
     ]
    }
   ],
   "source": [
    "for k in [2, 3, 5, 7, 11]:\n",
    "    print('---{}---'.format(k))\n",
    "    print(mod_exp(k, 32, 97))\n",
    "    print(mod_exp(k, 48, 97))"
   ]
  },
  {
   "cell_type": "markdown",
   "metadata": {},
   "source": [
    "From the result we know that 5 is the smallest generator."
   ]
  },
  {
   "cell_type": "markdown",
   "metadata": {},
   "source": [
    "### Ex. 6.2 brutal force to find $x$ for $3^{x} \\equiv 2 \\bmod 65537$"
   ]
  },
  {
   "cell_type": "code",
   "execution_count": 26,
   "metadata": {},
   "outputs": [
    {
     "name": "stdout",
     "output_type": "stream",
     "text": [
      "x is 27\n"
     ]
    }
   ],
   "source": [
    "tmp = mod_exp(3, 2048, 65537)\n",
    "base = tmp * tmp % 65537\n",
    "for i in range(15):\n",
    "    if tmp == 2:\n",
    "        print(\"x is\", i*2+1)\n",
    "        break\n",
    "    tmp = tmp * base % 65537   # print(tmp)"
   ]
  },
  {
   "cell_type": "markdown",
   "metadata": {},
   "source": [
    "### Ex. 6.3 using Pohlig-Hellman algorithm"
   ]
  },
  {
   "cell_type": "code",
   "execution_count": 4,
   "metadata": {},
   "outputs": [
    {
     "name": "stdout",
     "output_type": "stream",
     "text": [
      "1\n",
      "65536\n"
     ]
    }
   ],
   "source": [
    "print(mod_exp(2, 2**15, 65537))\n",
    "a_ = mod_exp(3, 2**15, 65537)\n",
    "print(a_)"
   ]
  },
  {
   "cell_type": "markdown",
   "metadata": {},
   "source": [
    "Thus, with $2^{2^{15}} = (3^{2^{15}})^{x_0}$, we can find $x_0 = 0$."
   ]
  },
  {
   "cell_type": "code",
   "execution_count": 5,
   "metadata": {},
   "outputs": [
    {
     "name": "stdout",
     "output_type": "stream",
     "text": [
      "65536\n",
      "65536\n",
      "65536\n",
      "65536\n",
      "65536\n",
      "65536\n",
      "65536\n",
      "65536\n",
      "65536\n",
      "65536\n",
      "65536\n",
      "65536\n",
      "65536\n",
      "65536\n",
      "65536\n",
      "65536\n",
      "65536\n",
      "65536\n",
      "65536\n",
      "65536\n",
      "1\n",
      "65536\n",
      "65536\n",
      "1\n",
      "65536\n",
      "65536\n",
      "65536\n",
      "65536\n"
     ]
    }
   ],
   "source": [
    "b = 2\n",
    "a = 3\n",
    "x = [2]\n",
    "for i in range(15):\n",
    "    ex = 2**16-2**(i)*x[i] % 2**16\n",
    "    b_ = b * 3**ex\n",
    "    b = b_ % 65537\n",
    "    bi = mod_exp(b, 2**(14-i), 65537)\n",
    "    print(bi)\n",
    "    tmp = 1\n",
    "    xi = 0\n",
    "    while True:\n",
    "        if tmp==bi:\n",
    "            break\n",
    "        tmp = tmp * a_ % 65537\n",
    "        print(tmp)\n",
    "        xi = xi + 1\n",
    "    x.append(xi)"
   ]
  },
  {
   "cell_type": "code",
   "execution_count": 49,
   "metadata": {},
   "outputs": [],
   "source": [
    "sum_ = 0\n",
    "for i in range(16):\n",
    "    sum_ = sum_ + x[i] * (2 ** i)"
   ]
  },
  {
   "cell_type": "code",
   "execution_count": 50,
   "metadata": {},
   "outputs": [
    {
     "data": {
      "text/plain": [
       "55296"
      ]
     },
     "execution_count": 50,
     "metadata": {},
     "output_type": "execute_result"
    }
   ],
   "source": [
    "sum_ % 65537"
   ]
  },
  {
   "cell_type": "code",
   "execution_count": 51,
   "metadata": {},
   "outputs": [
    {
     "data": {
      "text/plain": [
       "2"
      ]
     },
     "execution_count": 51,
     "metadata": {},
     "output_type": "execute_result"
    }
   ],
   "source": [
    "3**55296% 65537"
   ]
  },
  {
   "cell_type": "code",
   "execution_count": null,
   "metadata": {},
   "outputs": [],
   "source": []
  }
 ],
 "metadata": {
  "kernelspec": {
   "display_name": "Python [conda root]",
   "language": "python",
   "name": "conda-root-py"
  },
  "language_info": {
   "codemirror_mode": {
    "name": "ipython",
    "version": 3
   },
   "file_extension": ".py",
   "mimetype": "text/x-python",
   "name": "python",
   "nbconvert_exporter": "python",
   "pygments_lexer": "ipython3",
   "version": "3.6.5"
  }
 },
 "nbformat": 4,
 "nbformat_minor": 2
}
