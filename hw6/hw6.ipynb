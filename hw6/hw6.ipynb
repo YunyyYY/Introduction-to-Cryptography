{
 "cells": [
  {
   "cell_type": "code",
   "execution_count": 1,
   "metadata": {},
   "outputs": [],
   "source": [
    "# Modular Exponentiation\n",
    "# m is base, d is power, n is module\n",
    "def mod_exp(m, d, n):\n",
    "    x = 1\n",
    "    while d:\n",
    "        if d&1:\n",
    "            x = x*m % n\n",
    "        m = m * m % n\n",
    "        d = d >> 1\n",
    "    return x"
   ]
  },
  {
   "cell_type": "markdown",
   "metadata": {},
   "source": [
    "### [Pohlig–Hellman algorithm](https://en.wikipedia.org/wiki/Pohlig%E2%80%93Hellman_algorithm#The_general_algorithm)\n",
    "The following function can only work for prime number $p$.\n",
    "\n",
    "$n = 24389$, thus $\\varphi(n) = n\\left(1-\\frac{1}{29}\\right) = 29\\times29\\times28$."
   ]
  },
  {
   "cell_type": "code",
   "execution_count": 140,
   "metadata": {},
   "outputs": [],
   "source": [
    "# could only use for prime p\n",
    "def poh_hell(a, b, fac, p):\n",
    "    for q, r in fac:\n",
    "        phi = p-1\n",
    "        beta = b\n",
    "        xi = p-1\n",
    "        print(\"--- factor {}^{} ---\".format(q, r))\n",
    "        a_  = [mod_exp(a, int(k*(p-1)/q), p) for k in range(q)]\n",
    "        # print(a_)\n",
    "        \n",
    "        for i in range(r):    # i from 0 to r-1\n",
    "            phi = int(phi/q)\n",
    "            beta = beta * mod_exp(a, p-1-xi, p) % p    # current beta\n",
    "            b_  = mod_exp(beta, phi, p)\n",
    "            \n",
    "            # print(\"phi = {}, lhs = {}, beta = {}\".format(phi ,b_, beta))\n",
    "            \n",
    "            for coef in range(q):\n",
    "                # print(coef, a_[coef])\n",
    "                if b_ == a_[coef]:\n",
    "                    xi = coef * (q**i)    # this is for update beta.\n",
    "                    print(\"x_{} = {}\".format(i, coef))\n",
    "                    break"
   ]
  },
  {
   "cell_type": "code",
   "execution_count": 159,
   "metadata": {},
   "outputs": [],
   "source": [
    "#   a -- generator\n",
    "# fac -- factorization of |G|\n",
    "# var -- order of U(Z/pZ)\n",
    "\n",
    "def poh_hell(a, b, fac, p, var):\n",
    "    for q, r in fac:\n",
    "        phi = var\n",
    "        beta = b\n",
    "        xi = var\n",
    "        print(\"--- factor {}^{} ---\".format(q, r))\n",
    "        a_  = [mod_exp(a, int(k*(var)/q), p) for k in range(q)]\n",
    "        # print(a_)\n",
    "        \n",
    "        for i in range(r):    # i from 0 to r-1\n",
    "            phi = int(phi/q)\n",
    "            beta = beta * mod_exp(a, var-xi, p) % p    # current beta\n",
    "            b_  = mod_exp(beta, phi, p)\n",
    "            \n",
    "            # print(\"phi = {}, lhs = {}, beta = {}\".format(phi ,b_, beta))\n",
    "            \n",
    "            for coef in range(q):\n",
    "                if b_ == a_[coef]:\n",
    "                    xi = coef * (q**i)    # this is for update beta.\n",
    "                    print(\"x_{} = {}\".format(i, coef))\n",
    "                    break"
   ]
  },
  {
   "cell_type": "code",
   "execution_count": 164,
   "metadata": {},
   "outputs": [
    {
     "name": "stdout",
     "output_type": "stream",
     "text": [
      "--- factor 2^2 ---\n",
      "x_0 = 0\n",
      "x_1 = 1\n",
      "--- factor 7^1 ---\n",
      "x_0 = 2\n",
      "--- factor 29^2 ---\n",
      "x_0 = 28\n",
      "x_1 = 8\n"
     ]
    }
   ],
   "source": [
    "poh_hell(3, 3344, [(2, 2), (7, 1), (29, 2)], 24389, 23548)"
   ]
  },
  {
   "cell_type": "code",
   "execution_count": 209,
   "metadata": {},
   "outputs": [
    {
     "data": {
      "text/plain": [
       "3344"
      ]
     },
     "execution_count": 209,
     "metadata": {},
     "output_type": "execute_result"
    }
   ],
   "source": [
    "mod_exp(3, 18762, 24389)"
   ]
  },
  {
   "cell_type": "markdown",
   "metadata": {},
   "source": [
    "### Pollard-rho factorization algorithm"
   ]
  },
  {
   "cell_type": "code",
   "execution_count": 204,
   "metadata": {},
   "outputs": [],
   "source": [
    "def gcd(a, b):\n",
    "    if a<b:\n",
    "        a, b = b, a\n",
    "    def new(x, y):\n",
    "        return x, y\n",
    "    r0 = b\n",
    "    r1 = a\n",
    "    s0 = 0\n",
    "    s1 = 1\n",
    "    t0 = 1\n",
    "    t1 = 0\n",
    "    while r0:\n",
    "        q = int(r1/r0)\n",
    "        r1, r0 = new(r0, r1 - q * r0)\n",
    "        s1, s0 = new(s0, s1 - q * s0)\n",
    "        t1, t0 = new(t0, t1 - q * t0)\n",
    "    return r1"
   ]
  },
  {
   "cell_type": "code",
   "execution_count": 205,
   "metadata": {},
   "outputs": [],
   "source": [
    "# since I am too lazy to define a function parameter, set default f(x) = x^2 + 1\n",
    "\n",
    "def poll_rho(n):\n",
    "    def f(x):\n",
    "        return (x*x+1)%n\n",
    "    a = 2\n",
    "    b = 2\n",
    "    d = 1\n",
    "    while d==1:\n",
    "        a = f(a)\n",
    "        b = f(f(b))\n",
    "        print(a, b)\n",
    "        d = gcd((a-b)%n, n)\n",
    "    print(a, b)\n",
    "    print(d)\n",
    "    if d==n:\n",
    "        return -1\n",
    "    else:\n",
    "        return d"
   ]
  },
  {
   "cell_type": "code",
   "execution_count": 208,
   "metadata": {},
   "outputs": [
    {
     "name": "stdout",
     "output_type": "stream",
     "text": [
      "5 26\n",
      "26 458330\n",
      "677 44127887745906175987802\n",
      "458330 927179847797455840404378284063143440894396604410646558794295583278099014745544790563532408\n",
      "210066388901 627638255183271368473851138879218734605536513913304944197454117806875031408688647419773562\n",
      "44127887745906175987802 162954118596693717194122948119638099000293305018310214093344581827750651662283317603655001\n",
      "44127887745906175987802 162954118596693717194122948119638099000293305018310214093344581827750651662283317603655001\n",
      "53\n"
     ]
    },
    {
     "data": {
      "text/plain": [
       "53"
      ]
     },
     "execution_count": 208,
     "metadata": {},
     "output_type": "execute_result"
    }
   ],
   "source": [
    "poll_rho(1432341231234235121231928371982374918237918273918371012983719283719834619832398192380909809)"
   ]
  },
  {
   "cell_type": "code",
   "execution_count": null,
   "metadata": {},
   "outputs": [],
   "source": []
  }
 ],
 "metadata": {
  "kernelspec": {
   "display_name": "Python [conda root]",
   "language": "python",
   "name": "conda-root-py"
  },
  "language_info": {
   "codemirror_mode": {
    "name": "ipython",
    "version": 3
   },
   "file_extension": ".py",
   "mimetype": "text/x-python",
   "name": "python",
   "nbconvert_exporter": "python",
   "pygments_lexer": "ipython3",
   "version": "3.6.5"
  }
 },
 "nbformat": 4,
 "nbformat_minor": 2
}
