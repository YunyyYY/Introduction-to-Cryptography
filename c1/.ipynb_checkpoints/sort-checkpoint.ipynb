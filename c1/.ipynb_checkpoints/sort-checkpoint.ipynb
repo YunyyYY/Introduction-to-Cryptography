{
 "cells": [
  {
   "cell_type": "markdown",
   "metadata": {},
   "source": [
    "#### This notebook sort the classified images in decreasing order"
   ]
  },
  {
   "cell_type": "code",
   "execution_count": 8,
   "metadata": {},
   "outputs": [],
   "source": [
    "import os, os.path\n",
    "from pathlib import Path"
   ]
  },
  {
   "cell_type": "code",
   "execution_count": 9,
   "metadata": {},
   "outputs": [],
   "source": [
    "d = dict()\n",
    "cuont = 1\n",
    "for name in os.listdir('./sort'):\n",
    "    path = './sort/'+name\n",
    "    tar = Path(path)\n",
    "    if tar.is_dir():\n",
    "        d[name] = len(os.listdir(path))"
   ]
  },
  {
   "cell_type": "markdown",
   "metadata": {},
   "source": [
    "## sort dictionary"
   ]
  },
  {
   "cell_type": "code",
   "execution_count": 3,
   "metadata": {},
   "outputs": [],
   "source": [
    "u = sorted(d.items(), key=lambda d: d[1], reverse=True)"
   ]
  },
  {
   "cell_type": "code",
   "execution_count": 19,
   "metadata": {},
   "outputs": [
    {
     "name": "stdout",
     "output_type": "stream",
     "text": [
      "42,2\n",
      "1,2\n",
      "41,2\n",
      "38,3\n",
      "37,3\n",
      "39,3\n",
      "40,3\n",
      "2,4\n",
      "36,5\n",
      "34,8\n",
      "35,9\n",
      "3,13\n",
      "4,19\n",
      "6,20\n",
      "7,23\n",
      "5,27\n",
      "9,80\n",
      "14,80\n",
      "8,83\n",
      "11,86\n",
      "10,91\n",
      "22,99\n",
      "16,101\n",
      "28,105\n",
      "21,106\n",
      "20,108\n",
      "23,109\n",
      "12,113\n",
      "27,115\n",
      "13,119\n",
      "17,122\n",
      "18,125\n",
      "19,125\n",
      "26,127\n",
      "31,129\n",
      "30,129\n",
      "32,136\n",
      "24,138\n",
      "29,144\n",
      "15,147\n",
      "33,152\n",
      "25,155\n"
     ]
    }
   ],
   "source": [
    "for i in u:\n",
    "    print(i[0]+','+ str(i[1]))"
   ]
  },
  {
   "cell_type": "code",
   "execution_count": null,
   "metadata": {},
   "outputs": [],
   "source": []
  }
 ],
 "metadata": {
  "kernelspec": {
   "display_name": "Python [conda env:tf-env]",
   "language": "python",
   "name": "conda-env-tf-env-py"
  },
  "language_info": {
   "codemirror_mode": {
    "name": "ipython",
    "version": 3
   },
   "file_extension": ".py",
   "mimetype": "text/x-python",
   "name": "python",
   "nbconvert_exporter": "python",
   "pygments_lexer": "ipython3",
   "version": "3.6.3"
  }
 },
 "nbformat": 4,
 "nbformat_minor": 2
}
