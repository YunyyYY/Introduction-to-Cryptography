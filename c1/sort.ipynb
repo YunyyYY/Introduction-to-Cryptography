{
 "cells": [
  {
   "cell_type": "markdown",
   "metadata": {},
   "source": [
    "#### This notebook sort the classified images in decreasing order"
   ]
  },
  {
   "cell_type": "code",
   "execution_count": 1,
   "metadata": {},
   "outputs": [],
   "source": [
    "import os, os.path\n",
    "from pathlib import Path"
   ]
  },
  {
   "cell_type": "code",
   "execution_count": 2,
   "metadata": {},
   "outputs": [],
   "source": [
    "d = dict()\n",
    "cuont = 1\n",
    "for name in os.listdir('./sort'):\n",
    "    path = './sort/'+name\n",
    "    tar = Path(path)\n",
    "    if tar.is_dir():\n",
    "        d[name] = len(os.listdir(path))"
   ]
  },
  {
   "cell_type": "markdown",
   "metadata": {},
   "source": [
    "## sort dictionary"
   ]
  },
  {
   "cell_type": "code",
   "execution_count": 3,
   "metadata": {},
   "outputs": [],
   "source": [
    "u = sorted(d.items(), key=lambda d: d[1], reverse=True)"
   ]
  },
  {
   "cell_type": "code",
   "execution_count": 4,
   "metadata": {},
   "outputs": [
    {
     "name": "stdout",
     "output_type": "stream",
     "text": [
      "25,154\n",
      "33,152\n",
      "15,146\n",
      "29,143\n",
      "24,137\n",
      "32,135\n",
      "31,128\n",
      "30,128\n",
      "26,126\n",
      "18,124\n",
      "19,124\n",
      "17,121\n",
      "13,118\n",
      "27,114\n",
      "12,112\n",
      "23,108\n",
      "20,107\n",
      "21,105\n",
      "28,104\n",
      "16,100\n",
      "22,98\n",
      "10,90\n",
      "11,85\n",
      "8,82\n",
      "9,79\n",
      "14,79\n",
      "5,26\n",
      "7,22\n",
      "6,19\n",
      "4,18\n",
      "3,12\n",
      "35,8\n",
      "34,8\n",
      "36,4\n",
      "2,3\n",
      "38,2\n",
      "37,2\n",
      "39,2\n",
      "40,2\n",
      "42,1\n",
      "1,1\n",
      "41,1\n"
     ]
    }
   ],
   "source": [
    "for i in u:\n",
    "    print(i[0]+','+ str(i[1]))"
   ]
  },
  {
   "cell_type": "code",
   "execution_count": null,
   "metadata": {},
   "outputs": [],
   "source": []
  }
 ],
 "metadata": {
  "kernelspec": {
   "display_name": "Python [conda env:tf-env]",
   "language": "python",
   "name": "conda-env-tf-env-py"
  },
  "language_info": {
   "codemirror_mode": {
    "name": "ipython",
    "version": 3
   },
   "file_extension": ".py",
   "mimetype": "text/x-python",
   "name": "python",
   "nbconvert_exporter": "python",
   "pygments_lexer": "ipython3",
   "version": "3.6.3"
  }
 },
 "nbformat": 4,
 "nbformat_minor": 2
}
