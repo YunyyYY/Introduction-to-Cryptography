{
 "cells": [
  {
   "cell_type": "code",
   "execution_count": 1,
   "metadata": {},
   "outputs": [],
   "source": [
    "from PIL import Image\n",
    "from functools import reduce\n",
    "import os\n",
    "from pathlib import Path"
   ]
  },
  {
   "cell_type": "markdown",
   "metadata": {},
   "source": [
    "# perceptual hash functions"
   ]
  },
  {
   "cell_type": "code",
   "execution_count": 2,
   "metadata": {},
   "outputs": [],
   "source": [
    "def phash(img):\n",
    "    # cv2.resize(img, (8, 8), interpolation = cv2.INTER_AREA)\n",
    "    img = img.resize((8, 8), Image.ANTIALIAS).convert('L')\n",
    "    avg = reduce(lambda x, y: x + y, img.getdata()) / 64.\n",
    "    return reduce(lambda x, y: (x << 1) | y, map(lambda i: 0 if i < avg else 1, img.getdata()))\n",
    "\n",
    "# enumerate() with no second arg starts at 0.\n",
    "# enumerate(map(lambda i: 0 if i < avg else 1, img.getdata())) returns a list of 0's and 1's as index pair (#, val)"
   ]
  },
  {
   "cell_type": "code",
   "execution_count": 3,
   "metadata": {},
   "outputs": [],
   "source": [
    "def hamming_distance(a, b):\n",
    "    return bin(a^b).count('1')"
   ]
  },
  {
   "cell_type": "code",
   "execution_count": 77,
   "metadata": {},
   "outputs": [],
   "source": [
    "thred = 5;  # starting from 5, gradually increase\n",
    "def is_imgs_similar(img1,img2):\n",
    "    return True if hamming_distance(phash(img1),phash(img2)) <= thred else False"
   ]
  },
  {
   "cell_type": "markdown",
   "metadata": {},
   "source": [
    "### Define name list"
   ]
  },
  {
   "cell_type": "code",
   "execution_count": 7,
   "metadata": {},
   "outputs": [],
   "source": [
    "num = []\n",
    "for i in range(63):\n",
    "    for j in range(50):\n",
    "        num.append(str(i+1)+\"_\"+str(j+1))\n",
    "\n",
    "# there are only 3130 images in total\n",
    "# num = num[0:3130]"
   ]
  },
  {
   "cell_type": "markdown",
   "metadata": {},
   "source": [
    "## one-position round"
   ]
  },
  {
   "cell_type": "markdown",
   "metadata": {},
   "source": [
    "#### creating name tag"
   ]
  },
  {
   "cell_type": "markdown",
   "metadata": {},
   "source": [
    "#### set source file"
   ]
  },
  {
   "cell_type": "code",
   "execution_count": 71,
   "metadata": {},
   "outputs": [],
   "source": [
    "id = 26;\n",
    "ref_file = \"std/\"+str(id)+\".png\"\n",
    "ref = Image.open(ref_file)"
   ]
  },
  {
   "cell_type": "code",
   "execution_count": 72,
   "metadata": {},
   "outputs": [],
   "source": [
    "path = \"sort/\"+str(id)\n",
    "os.mkdir(path)\n",
    "\n",
    "for i in range(3130):\n",
    "    tar_file = \"img/\"+ num[i] + \".png\"\n",
    "    my_file = Path(tar_file)\n",
    "    if not my_file.exists(): # check if file already sorted\n",
    "        continue\n",
    "    tar = Image.open(tar_file)\n",
    "    if (is_imgs_similar(ref, tar)):\n",
    "        os.remove(tar_file)\n",
    "        tar.save(path + \"/\" + num[i] + \".png\")\n"
   ]
  },
  {
   "cell_type": "markdown",
   "metadata": {},
   "source": [
    "# Run all positions"
   ]
  },
  {
   "cell_type": "code",
   "execution_count": 78,
   "metadata": {},
   "outputs": [],
   "source": [
    "for id in range(33):\n",
    "    ref_file = \"std/\"+str(id+1)+\".png\"\n",
    "    ref = Image.open(ref_file)  \n",
    "    path = \"sort/\"+str(id+1)\n",
    "    os.mkdir(path)\n",
    "    for i in range(3130):\n",
    "        tar_file = \"img/\"+ num[i] + \".png\"\n",
    "        my_file = Path(tar_file)\n",
    "        if not my_file.exists(): # check if file already sorted\n",
    "            continue\n",
    "        tar = Image.open(tar_file)\n",
    "        if (is_imgs_similar(ref, tar)):\n",
    "            os.remove(tar_file)\n",
    "            tar.save(path + \"/\" + num[i] + \".png\")"
   ]
  },
  {
   "cell_type": "code",
   "execution_count": null,
   "metadata": {},
   "outputs": [],
   "source": []
  }
 ],
 "metadata": {
  "kernelspec": {
   "display_name": "Python [conda env:tf-env]",
   "language": "python",
   "name": "conda-env-tf-env-py"
  },
  "language_info": {
   "codemirror_mode": {
    "name": "ipython",
    "version": 3
   },
   "file_extension": ".py",
   "mimetype": "text/x-python",
   "name": "python",
   "nbconvert_exporter": "python",
   "pygments_lexer": "ipython3",
   "version": "3.6.3"
  }
 },
 "nbformat": 4,
 "nbformat_minor": 2
}
