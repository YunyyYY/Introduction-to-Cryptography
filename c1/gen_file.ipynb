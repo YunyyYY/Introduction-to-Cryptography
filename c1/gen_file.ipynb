{
 "cells": [
  {
   "cell_type": "markdown",
   "metadata": {},
   "source": [
    "### This notebook try to fill the blanks of imgs with letters"
   ]
  },
  {
   "cell_type": "code",
   "execution_count": 1,
   "metadata": {},
   "outputs": [],
   "source": [
    "import os, os.path\n",
    "from pathlib import Path\n",
    "import pandas as pd\n",
    "import numpy as np"
   ]
  },
  {
   "cell_type": "code",
   "execution_count": 2,
   "metadata": {},
   "outputs": [],
   "source": [
    "readin = pd.read_csv('sort.csv', header=None, names=['file', 'count'])"
   ]
  },
  {
   "cell_type": "markdown",
   "metadata": {},
   "source": [
    "#### get decreasing order of img list"
   ]
  },
  {
   "cell_type": "code",
   "execution_count": 3,
   "metadata": {},
   "outputs": [],
   "source": [
    "files = list(readin['file'])\n",
    "count = list(readin['count'])"
   ]
  },
  {
   "cell_type": "markdown",
   "metadata": {},
   "source": [
    "#### transfer pics to axis"
   ]
  },
  {
   "cell_type": "code",
   "execution_count": 7,
   "metadata": {},
   "outputs": [],
   "source": [
    "def get_name(file_num):\n",
    "    path = Path('./sort/' + str(file_num))\n",
    "    if path.is_dir():\n",
    "        return list(os.listdir(path))\n",
    "    else:\n",
    "        print(\"file_num \" + str(file_num) + \" not exist\")\n",
    "        return list()"
   ]
  },
  {
   "cell_type": "code",
   "execution_count": 8,
   "metadata": {},
   "outputs": [],
   "source": [
    "def get_axis(lst):\n",
    "    new_ls = list()\n",
    "    for line in lst:\n",
    "        line = line.replace(\".png\", \"\")\n",
    "        line = line.split(\"_\")\n",
    "        line = [int(k) for k in line]\n",
    "        new_ls.append(line)\n",
    "    return new_ls"
   ]
  },
  {
   "cell_type": "code",
   "execution_count": 9,
   "metadata": {},
   "outputs": [],
   "source": [
    "maps = dict()\n",
    "for item in files:\n",
    "    maps[item] = get_axis(get_name(item))"
   ]
  },
  {
   "cell_type": "markdown",
   "metadata": {},
   "source": [
    "### Mask functions\n",
    "#### set mask bits"
   ]
  },
  {
   "cell_type": "code",
   "execution_count": 10,
   "metadata": {},
   "outputs": [],
   "source": [
    "# vals is an item in maps, list of pics in a file\n",
    "def set_bit(vals):\n",
    "    bit = np.array([[0] * 50] * 63)\n",
    "    for i in vals:\n",
    "        bit[i[0]-1, i[1]-1] = 1\n",
    "    return bit\n",
    "\n",
    "# buf should be a 2-D array of chars\n",
    "def letter_mask(buf, bmap, letter):\n",
    "    line, col = bmap.shape\n",
    "    for x in range(line):\n",
    "        tmp = []\n",
    "        for y in range(col):\n",
    "            if bmap[x, y] == 1:\n",
    "                buf[x, y] = letter\n",
    "    return buf"
   ]
  },
  {
   "cell_type": "markdown",
   "metadata": {},
   "source": [
    "#### turn mask and char arrays into text with lines"
   ]
  },
  {
   "cell_type": "code",
   "execution_count": 25,
   "metadata": {},
   "outputs": [],
   "source": [
    "def print_text(b_mask):\n",
    "    r, c = b_mask.shape\n",
    "    for x in range(r):\n",
    "        line = '\\n'\n",
    "        for y in range(c):\n",
    "            line += b_mask[x, y]\n",
    "        print(line)\n",
    "        \n",
    "def gen_text(b_mask):\n",
    "    r, c = b_mask.shape\n",
    "    output = ''\n",
    "    for x in range(r):\n",
    "        line = '\\n'\n",
    "        for y in range(c):\n",
    "            line += b_mask[x, y]\n",
    "        output = output + line\n",
    "    return output"
   ]
  },
  {
   "cell_type": "markdown",
   "metadata": {},
   "source": [
    "### Test\n",
    "#### sequential steps to complete a letter"
   ]
  },
  {
   "cell_type": "code",
   "execution_count": null,
   "metadata": {},
   "outputs": [],
   "source": [
    "buffer = np.array([['_'] * 50] * 63)          # initial bit map and letter mask, original buffer, filled with '_'\n",
    "buffer = letter_mask(buffer, set_bit(maps[files[0]]), 'a')\n",
    "buffer = letter_mask(buffer, set_bit(maps[files[1]]), 't')\n",
    "buffer = letter_mask(buffer, set_bit(maps[files[2]]), 'e')"
   ]
  },
  {
   "cell_type": "markdown",
   "metadata": {},
   "source": [
    "#### Batched output"
   ]
  },
  {
   "cell_type": "code",
   "execution_count": 31,
   "metadata": {},
   "outputs": [],
   "source": [
    "buffer = np.array([['_'] * 50] * 63)\n",
    "\n",
    "lset = set(['e', 't', 'a'])\n",
    "for a in lset:\n",
    "    for b in lset - set(a):\n",
    "        for c in lset - set([a, b]):\n",
    "            buffer = letter_mask(buffer, set_bit(maps[files[0]]), a)\n",
    "            buffer = letter_mask(buffer, set_bit(maps[files[1]]), b)\n",
    "            buffer = letter_mask(buffer, set_bit(maps[files[2]]), c)\n",
    "            fo = open(\"eta/{}.txt\".format(a+b+c), \"w\")\n",
    "            fo.write(gen_text(buffer))\n",
    "            fo.close()"
   ]
  },
  {
   "cell_type": "markdown",
   "metadata": {},
   "source": [
    "#### Batched output, order: e, t + {a, i, n, o}"
   ]
  },
  {
   "cell_type": "code",
   "execution_count": null,
   "metadata": {},
   "outputs": [],
   "source": [
    "buffer = np.array([['_'] * 50] * 63)\n",
    "buffer = letter_mask(buffer, set_bit(maps[files[0]]), 'e')\n",
    "buffer = letter_mask(buffer, set_bit(maps[files[1]]), 't')\n",
    "\n",
    "lset = set(['a', 'i', 'n', 'o'])\n",
    "for a in lset:\n",
    "    for b in lset - set(a):\n",
    "        for c in lset - set([a, b]):\n",
    "            for d in lset - set([a, b, c]):\n",
    "                buffer = letter_mask(buffer, set_bit(maps[files[2]]), a)\n",
    "                buffer = letter_mask(buffer, set_bit(maps[files[3]]), b)\n",
    "                buffer = letter_mask(buffer, set_bit(maps[files[4]]), c)\n",
    "                buffer = letter_mask(buffer, set_bit(maps[files[5]]), d)\n",
    "                fo = open(\"et_4/{}.txt\".format(a+b+c+d), \"w\")\n",
    "                fo.write(gen_text(buffer))\n",
    "                fo.close()"
   ]
  }
 ],
 "metadata": {
  "kernelspec": {
   "display_name": "Python [conda env:tf-env]",
   "language": "python",
   "name": "conda-env-tf-env-py"
  },
  "language_info": {
   "codemirror_mode": {
    "name": "ipython",
    "version": 3
   },
   "file_extension": ".py",
   "mimetype": "text/x-python",
   "name": "python",
   "nbconvert_exporter": "python",
   "pygments_lexer": "ipython3",
   "version": "3.6.3"
  }
 },
 "nbformat": 4,
 "nbformat_minor": 2
}
