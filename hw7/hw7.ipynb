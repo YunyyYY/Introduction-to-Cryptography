{
 "cells": [
  {
   "cell_type": "code",
   "execution_count": 1,
   "metadata": {},
   "outputs": [],
   "source": [
    "import numpy as np"
   ]
  },
  {
   "cell_type": "markdown",
   "metadata": {},
   "source": [
    "### SHA-1"
   ]
  },
  {
   "cell_type": "code",
   "execution_count": 8,
   "metadata": {},
   "outputs": [
    {
     "name": "stdout",
     "output_type": "stream",
     "text": [
      "0x5a827999\n",
      "0x6ed9eba1\n",
      "0x8f1bbcdc\n",
      "0xca62c1d6\n"
     ]
    }
   ],
   "source": [
    "for i in [2, 3, 5, 10]:\n",
    "    a = int(2**30*np.sqrt(i))\n",
    "    print('0x%x'%a)"
   ]
  },
  {
   "cell_type": "markdown",
   "metadata": {},
   "source": [
    "### Birthday paradox"
   ]
  },
  {
   "cell_type": "code",
   "execution_count": 15,
   "metadata": {},
   "outputs": [],
   "source": [
    "prod = 1\n",
    "for i in range(39):\n",
    "    prod = prod * (1 - (i+1)/1000)"
   ]
  },
  {
   "cell_type": "code",
   "execution_count": 14,
   "metadata": {},
   "outputs": [
    {
     "data": {
      "text/plain": [
       "0.5463719707129396"
      ]
     },
     "execution_count": 14,
     "metadata": {},
     "output_type": "execute_result"
    }
   ],
   "source": [
    "1-prod"
   ]
  },
  {
   "cell_type": "code",
   "execution_count": 16,
   "metadata": {},
   "outputs": [
    {
     "data": {
      "text/plain": [
       "0.038469277707139614"
      ]
     },
     "execution_count": 16,
     "metadata": {},
     "output_type": "execute_result"
    }
   ],
   "source": [
    "40 * 0.001 * 0.999**39"
   ]
  },
  {
   "cell_type": "markdown",
   "metadata": {},
   "source": [
    "### Faster modular exponentiation\n",
    "\n",
    "[gmpy documentation](https://gmpy2.readthedocs.io/en/latest/intro.html)"
   ]
  },
  {
   "cell_type": "code",
   "execution_count": 1,
   "metadata": {},
   "outputs": [],
   "source": [
    "from gmpy2 import *\n",
    "import time"
   ]
  },
  {
   "cell_type": "code",
   "execution_count": 2,
   "metadata": {},
   "outputs": [],
   "source": [
    "def fme(a1, b1, a, b, n):\n",
    "    prod = mpz(1)\n",
    "    ab = (a1 * b1)%n\n",
    "    while a and b:\n",
    "        if a%2 and b%2:\n",
    "            prod = (prod*ab) % n\n",
    "        elif a%2:\n",
    "            prod = (prod*a1) % n\n",
    "        elif b%2:\n",
    "            prod = (prod*b1) % n\n",
    "        a1 = (a1*a1) % n\n",
    "        b1 = (b1*b1) % n\n",
    "        ab = (ab*ab) % n\n",
    "        a >>= 1\n",
    "        b >>= 1\n",
    "    return prod"
   ]
  },
  {
   "cell_type": "code",
   "execution_count": 3,
   "metadata": {},
   "outputs": [],
   "source": [
    "def mod_exp(b, e, n):\n",
    "    prod = mpz(1)\n",
    "    while e:\n",
    "        if e%2:\n",
    "            prod = (prod*b) % n\n",
    "        b = (b*b) % n\n",
    "        e >>= 1\n",
    "    return prod"
   ]
  },
  {
   "cell_type": "code",
   "execution_count": 4,
   "metadata": {},
   "outputs": [
    {
     "data": {
      "text/plain": [
       "True"
      ]
     },
     "execution_count": 4,
     "metadata": {},
     "output_type": "execute_result"
    }
   ],
   "source": [
    "p = mpz(6847944682037444681162770672798288913849)\n",
    "is_prime(p)"
   ]
  },
  {
   "cell_type": "code",
   "execution_count": 5,
   "metadata": {},
   "outputs": [],
   "source": [
    "# compare speed using p from above\n",
    "a1 = 77777    # alpha\n",
    "b1 = 111111   # beta\n",
    "a = [2**16-1, 2**32-3, 2**64-1, 2**128-3, 2**256-1, 2**512-3]\n",
    "b = [2**16-3, 2**32-1, 2**64-3, 2**128-1, 2**256-3, 2**512-1]"
   ]
  },
  {
   "cell_type": "code",
   "execution_count": 8,
   "metadata": {},
   "outputs": [
    {
     "name": "stdout",
     "output_type": "stream",
     "text": [
      "0.0014979999999999993\n",
      "0.0029399999999999427\n",
      "0.006952999999999987\n",
      "0.012719999999999954\n",
      "0.026886999999999994\n",
      "0.047355999999999954\n"
     ]
    }
   ],
   "source": [
    "for i in range(6):\n",
    "    start=time.clock()\n",
    "    for k in range(100):\n",
    "        x = fme(a1, b1, a[i], b[i], p)\n",
    "    end=time.clock()\n",
    "    # print(x)\n",
    "    print(end-start)\n"
   ]
  },
  {
   "cell_type": "code",
   "execution_count": 9,
   "metadata": {},
   "outputs": [
    {
     "name": "stdout",
     "output_type": "stream",
     "text": [
      "0.0014569999999999306\n",
      "0.0028890000000000304\n",
      "0.005965999999999916\n",
      "0.013038000000000105\n",
      "0.026564000000000032\n",
      "0.04476899999999995\n"
     ]
    }
   ],
   "source": [
    "for i in range(6):\n",
    "    start=time.clock()\n",
    "    for k in range(100):\n",
    "        x1 = mod_exp(a1, a[i], p)\n",
    "        x2 = mod_exp(b1, b[i], p)\n",
    "        x = (x1*x2) % p\n",
    "    end=time.clock()\n",
    "    # print(x)\n",
    "    print(end-start)\n"
   ]
  },
  {
   "cell_type": "code",
   "execution_count": 72,
   "metadata": {},
   "outputs": [],
   "source": [
    "import matplotlib.pyplot as plt"
   ]
  },
  {
   "cell_type": "code",
   "execution_count": 93,
   "metadata": {},
   "outputs": [],
   "source": [
    "ftime = [0.0008799999999999919, 0.0019059999999999633, 0.00417500000000004, \n",
    "         0.008385000000000087, 0.021055000000000046, 0.03847599999999973]\n",
    "mtime = [0.0013600000000000279, 0.0027960000000000207, 0.0066230000000002676, \n",
    "         0.01299399999999995, 0.023573000000000288, 0.04470099999999988]\n",
    "l = [16, 32, 64, 128, 256, 512]\n",
    "\n",
    "f = [i/100 for i in ftime]\n",
    "m = [i/100 for i in mtime]"
   ]
  },
  {
   "cell_type": "code",
   "execution_count": 96,
   "metadata": {},
   "outputs": [
    {
     "data": {
      "text/plain": [
       "Text(0,0.5,'average time')"
      ]
     },
     "execution_count": 96,
     "metadata": {},
     "output_type": "execute_result"
    },
    {
     "data": {
      "image/png": "[encoded data removed]",
      "text/plain": [
       "<Figure size 720x504 with 1 Axes>"
      ]
     },
     "metadata": {},
     "output_type": "display_data"
    }
   ],
   "source": [
    "plt.figure(figsize=(10,7))\n",
    "plt.plot(l, f)\n",
    "plt.plot(l, m)\n",
    "label = [\"faster modular exponentiation\", \"regular modular exponentiation\"]\n",
    "plt.legend(label)\n",
    "plt.xlabel(\"number of bits of the exponential\")\n",
    "plt.ylabel('average time')"
   ]
  },
  {
   "cell_type": "code",
   "execution_count": null,
   "metadata": {},
   "outputs": [],
   "source": []
  }
 ],
 "metadata": {
  "kernelspec": {
   "display_name": "Python [conda root]",
   "language": "python",
   "name": "conda-root-py"
  },
  "language_info": {
   "codemirror_mode": {
    "name": "ipython",
    "version": 3
   },
   "file_extension": ".py",
   "mimetype": "text/x-python",
   "name": "python",
   "nbconvert_exporter": "python",
   "pygments_lexer": "ipython3",
   "version": "3.6.5"
  }
 },
 "nbformat": 4,
 "nbformat_minor": 2
}
